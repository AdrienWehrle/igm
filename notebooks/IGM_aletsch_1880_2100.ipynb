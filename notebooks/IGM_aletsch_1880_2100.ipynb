{
  "cells": [
    {
      "cell_type": "markdown",
      "metadata": {
        "id": "view-in-github",
        "colab_type": "text"
      },
      "source": [
        "<a href=\"https://colab.research.google.com/github/jouvetg/igm/blob/main/notebooks/IGM_aletsch_1880_2100.ipynb\" target=\"_parent\"><img src=\"https://colab.research.google.com/assets/colab-badge.svg\" alt=\"Open In Colab\"/></a>"
      ]
    },
    {
      "cell_type": "markdown",
      "metadata": {
        "id": "yNJyXmfZFwui"
      },
      "source": [
        "### <h1 align=\"center\" id=\"title\">IGM notebook tutorial (aletsch-1880-2100) </h1>"
      ]
    },
    {
      "cell_type": "markdown",
      "metadata": {
        "id": "_k8QkmWJFwun"
      },
      "source": [
        "This set-up aims to closely reproduce the simulations of the Great Aletsch Glacier (Switzerland) in the past and in the future based\n",
        "on the CH2018 climate scenarios described in (Jouvet and al., JOG, 2011) and (Jouvet and Huss, JOG, 2019), respectively. \n",
        "The goal of this set-up is to give a template of climate-based mass balance implementation within the TensorFlow framework,\n",
        "which can serve for future improvements of the Aletsch case, or adaptations to other mountain glaciers. This simulation relies on\n",
        "an accumulation and distributed temperature-index melt mass balance model (Hock, JOG, 1999). The closest and most recent\n",
        "description of the implemented model is given in (Jouvet and al., TC, 2020). This simulation does not stricly match the original\n",
        "implementation due to discrepencies in input data and ice flow models (emulated Stokes vs original Stokes). Therefore, melt\n",
        "factors were re-calibrated to get the best match between observed and modelled top ice surface in the past. \n"
      ]
    },
    {
      "cell_type": "markdown",
      "metadata": {
        "id": "zqCnDfEVFwup"
      },
      "source": [
        "Let us firt download the IGM code, ice flow emulator, and input data. Input files include geological inputs (geology.nc), spatially-varying fields for the computation of melt factors and snow reditribution (massbalance.nc), as well as temperature and precipitation time serie data (temp_prec.dat). The data also provide some observed top surface ice topographies (in 1880, 1926, 1957, 1980, 1999, 2009, 2017 and 2016)."
      ]
    },
    {
      "cell_type": "code",
      "execution_count": null,
      "metadata": {
        "id": "AA53z4jiFwur"
      },
      "outputs": [],
      "source": [
        "# get the core source of igm (in igm.py)\n",
        "!wget -O igm.py https://raw.githubusercontent.com/jouvetg/igm/main/src/igm.py\n",
        "\n",
        "# get input data (topography, mass balance and climate data, resp.)\n",
        "!wget -O geology.nc https://raw.githubusercontent.com/jouvetg/igm/main/examples/aletsch-1880-2100/geology.nc\n",
        "!wget -O massbalance.nc https://raw.githubusercontent.com/jouvetg/igm/main/examples/aletsch-1880-2100/massbalance.nc\n",
        "!wget -O mbparameter.dat https://raw.githubusercontent.com/jouvetg/igm/main/examples/aletsch-1880-2100/mbparameter.dat\n",
        "!wget -O temp_prec.dat https://raw.githubusercontent.com/jouvetg/igm/main/examples/aletsch-1880-2100/temp_prec.dat\n",
        "\n",
        "# get specific igm functions for this set-up (climate and mass balance, resp.)\n",
        "!wget -O igm_clim_aletsch.py https://raw.githubusercontent.com/jouvetg/igm/main/examples/aletsch-1880-2100/igm_clim_aletsch.py\n",
        "!wget -O igm_smb_accmelt.py https://raw.githubusercontent.com/jouvetg/igm/main/examples/aletsch-1880-2100/igm_smb_accmelt.py\n",
        "\n",
        "# get the ice flow DL-emulator\n",
        "!apt install subversion\n",
        "!svn export https://github.com/jouvetg/igm/trunk/model-lib/f12_cfsflow_GJ_21_a\n",
        "\n",
        "# force version 2.4 of Tensorflow\n",
        "%tensorflow_version 2.4"
      ]
    },
    {
      "cell_type": "markdown",
      "metadata": {
        "id": "VR1oNvLvFwuz"
      },
      "source": [
        "First, we import necessary libraries, check the version of tensorflow, and inport the class igm (defined in igm.py), and create an igm object."
      ]
    },
    {
      "cell_type": "code",
      "execution_count": null,
      "metadata": {
        "id": "HcpUnDWpFwu1"
      },
      "outputs": [],
      "source": [
        "import matplotlib.pyplot as plt\n",
        "import numpy as np\n",
        "import tensorflow as tf\n",
        "import time\n",
        "import sys\n",
        "print('TF version is ',tf.__version__)\n",
        "sys.argv = ['']  # this is absolutly necessary in Jupyter notebook\n",
        "\n",
        "from igm import *\n",
        "from igm_clim_aletsch import *\n",
        "from igm_smb_accmelt import *\n",
        " \n",
        "# add extensions for climate generation and mass balance to the core igm class\n",
        "class igm(igm,igm_clim_aletsch, igm_smb_accmelt):\n",
        "    pass\n",
        "\n",
        "# define the igm class\n",
        "igm = igm()"
      ]
    },
    {
      "cell_type": "markdown",
      "source": [
        "Altough, you don't have to, it is highly recommended to run under GPU (click above 'Runtime' -> 'Change Runtime type' -> Activate GPU). Then the fowllowing comand check that a GPU is indeed available, and give the name of the GPU. (With the free veryion of colab these GPU are often old and not that efficient -- like the K80 --, IGM would typically run faster on new material)"
      ],
      "metadata": {
        "id": "lu5f4fKIBvSP"
      }
    },
    {
      "cell_type": "markdown",
      "metadata": {
        "id": "BS3gGxl0Fwu3"
      },
      "source": [
        "Next, we overide the default configuration parameters, initialize the class, and check at the parameters"
      ]
    },
    {
      "cell_type": "code",
      "execution_count": null,
      "metadata": {
        "scrolled": true,
        "id": "h6nntbjDFwu5"
      },
      "outputs": [],
      "source": [
        "# Set-up parameters\n",
        "\n",
        "igm.config.working_dir           = ''  \n",
        "igm.config.tstart                = 1880  # starting time (you may use other available year like 1926)\n",
        "igm.config.tend                  = 2100  # final time\n",
        "igm.config.tsave                 = 1     # saving frequence\n",
        "igm.config.init_strflowctrl      = 78    # this parametrizes the ice flow, the higher this param, the faster the flow\n",
        "igm.config.cfl                   = 0.25  # CFL condition must be lower than 1\n",
        "\n",
        "igm.config.iceflow_model_lib_path= 'f12_cfsflow_GJ_21_a'  # direct to the iceflow emaultor\n",
        "igm.config.type_climate          = 'aletsch'              # select type of climate forcing\n",
        "\n",
        "igm.config.type_mass_balance     = 'accmelt'              # select type of mass balance\n",
        "igm.config.massbalance_file      = 'massbalance.nc'       # mass balance data\n",
        "igm.config.weight_accumulation   = 1.00                   # this param weights accumulation\n",
        "igm.config.weight_ablation       = 1.25                   # this param weights ablation\n",
        "\n",
        "igm.config.usegpu                = True\n",
        "\n",
        "igm.config.weight_Aletschfirn    = 1.0 # this param weights Aletschfirn accumulation area\n",
        "igm.config.weight_Jungfraufirn   = 1.0 # this param weights Jungfraufirn accumulation area\n",
        "igm.config.weight_Ewigschneefeld = 1.0 # this param weights Ewigschneefeld accumulation area\n",
        "\n",
        "igm.initialize()"
      ]
    },
    {
      "cell_type": "markdown",
      "metadata": {
        "id": "puHkT8XGFwu-"
      },
      "source": [
        "We are now ready to simulate the great Aletsch Glacier for 220 years from 1880. The next code could be substitute by the simple comand igm.run(), however, we use the full workflow as we included an assemement of the model output ice surface against observation in years 1880, 1926, 1957, 1980, 1999, 2009, 2017 and 2016.\n"
      ]
    },
    {
      "cell_type": "code",
      "execution_count": null,
      "metadata": {
        "id": "sye7i4scFwvA"
      },
      "outputs": [],
      "source": [
        "with tf.device(igm.device_name):\n",
        "\n",
        "    igm.load_ncdf_data(igm.config.geology_file)\n",
        "    \n",
        "    # load the surface toporgaphy available at given year\n",
        "    igm.usurf.assign(vars(igm)['surf_'+str(int(igm.t))])\n",
        "    igm.thk.assign(igm.usurf-igm.topg)\n",
        "    \n",
        "    igm.initialize_fields()\n",
        "    igm.initialize_iceflow()\n",
        "    igm.update_climate()\n",
        "    igm.update_smb()\n",
        "    igm.update_iceflow()\n",
        "    igm.update_ncdf_ex()\n",
        "    igm.update_ncdf_ts()\n",
        "    igm.print_info()\n",
        "\n",
        "    while igm.t < igm.config.tend:\n",
        "        \n",
        "        igm.tcomp[\"All\"].append(time.time())\n",
        "             \n",
        "        # For thes year, check the std between modelled and observed surfaces\n",
        "        if igm.t in [1926,1957,1980,1999,2009,2017]:\n",
        "            diff = (igm.usurf-vars(igm)['surf_'+str(int(igm.t))]).numpy()\n",
        "            diff = diff[igm.thk>1]\n",
        "            mean  = np.mean(diff)\n",
        "            std   = np.std(diff)\n",
        "            vol   = np.sum(igm.thk) * (igm.dx ** 2) / 10 ** 9\n",
        "            print(\" Check modelled vs observed surface at time : %8.0f ; Mean discr. : %8.2f  ;  Std : %8.2f |  Ice volume : %8.2f \" \\\n",
        "                  % (igm.t, mean, std, vol) )\n",
        "        \n",
        "        igm.update_climate()\n",
        "        igm.update_smb() \n",
        "        igm.update_iceflow()\n",
        "        igm.update_t_dt()\n",
        "        igm.update_thk()\n",
        "        igm.update_ncdf_ex()\n",
        "        igm.update_ncdf_ts()\n",
        "        igm.update_plot()\n",
        "        igm.print_info()\n",
        "        \n",
        "        igm.tcomp[\"All\"][-1] -= time.time()\n",
        "        igm.tcomp[\"All\"][-1] *= -1\n",
        "        \n",
        "    igm.print_all_comp_info()"
      ]
    },
    {
      "cell_type": "markdown",
      "metadata": {
        "id": "19zJqae0FwvC"
      },
      "source": [
        "We have now modelled 220 years of evolution of the Great Aletsch Glacier at 100-meter resolution in about one minute. IGM monitors key variables (ice volume, time step) during computation, and provide STDs between modelled and observed ice surfaces in some years. Melt factors were tuned to keep this STD fairly small (below 35 m). The next code permits to vizualize the simulation.\n"
      ]
    },
    {
      "cell_type": "code",
      "execution_count": null,
      "metadata": {
        "id": "bMfqATiPGzSZ"
      },
      "outputs": [],
      "source": [
        "from IPython.display import HTML, display\n",
        "import xarray as xr \n",
        "from matplotlib import pyplot as plt, animation\n",
        "\n",
        "# open the thickness variable from the netcdf file (choose ice thcikness or ice speed)\n",
        "#var  = xr.open_dataset('ex.nc',engine='netcdf4').thk            ; maxvar = 800\n",
        "var  = xr.open_dataset('ex.nc',engine='netcdf4').velbar_mag    ; maxvar = 250\n",
        " \n",
        "fig, ax = plt.subplots(figsize=(8,10))\n",
        "\n",
        "# Plot the initial frame. \n",
        "cax = var[0,:,:].plot(add_colorbar=True,cmap=plt.cm.get_cmap('jet', 10),vmin=0, vmax=maxvar)\n",
        "ax.axis(\"off\") ; ax.axis(\"equal\")\n",
        "\n",
        "# dont' show the original frame\n",
        "plt.close()\n",
        "\n",
        "def animate(i):\n",
        "    cax.set_array(var[i,:,:].values.flatten())\n",
        "    ax.set_title(\"Time = \" + str(var.coords['time'].values[i])[:13])\n",
        "\n",
        "ani = animation.FuncAnimation( fig, animate, frames=var.shape[0], interval=100 ) # interval in ms between frames\n",
        "\n",
        "HTML(ani.to_html5_video())\n",
        "\n",
        "# optionally the animation can be saved in avi\n",
        "# ani.save('animation.mp4')"
      ]
    },
    {
      "cell_type": "code",
      "source": [
        "# always good to clean the space\n",
        "!rm ts.nc ex.nc igm-run-parameters.txt"
      ],
      "metadata": {
        "id": "R5BbrP7JAu7k"
      },
      "execution_count": null,
      "outputs": []
    },
    {
      "cell_type": "markdown",
      "source": [
        "Let's now change the mass balance moddel, and use a well-trained neural network trained from climate and mass balance data (from Aletsch Glacier). This can be seen as an alternative to the accumulation / melt model. Therefore, you must set igm.config.type_mass_balance to 'nn', provide a valid path for the mass balance emulator igm.config.smb_model_lib_path, and also force monthly climate inputs (instead of daily) setting igm.config.clim_time_resolution to 12."
      ],
      "metadata": {
        "id": "IuDz1fZeCZw3"
      }
    },
    {
      "cell_type": "code",
      "source": [
        "# get the SMB emulator\n",
        "!svn export https://github.com/jouvetg/igm/trunk/model-lib/smb1_meteoswissglamos_GJ_21_a\n",
        "\n",
        "# option 2: emulated smb model by a CNN -- uncoment these lines\n",
        "igm.config.smb_model_lib_path    = 'smb1_meteoswissglamos_GJ_21_a'\n",
        "igm.config.type_mass_balance     = 'nn'\n",
        "igm.config.clim_time_resolution  = 12\n",
        "igm.config.tstart                = 2017\n",
        "igm.config.tend                  = 2100"
      ],
      "metadata": {
        "id": "7VQ6y140CXcX"
      },
      "execution_count": null,
      "outputs": []
    },
    {
      "cell_type": "markdown",
      "source": [
        "Then simply launch IGM time evolution:"
      ],
      "metadata": {
        "id": "zBSTKgvaFSCS"
      }
    },
    {
      "cell_type": "code",
      "source": [
        "igm.run()"
      ],
      "metadata": {
        "id": "CISJxC9eFKdG"
      },
      "execution_count": null,
      "outputs": []
    },
    {
      "cell_type": "markdown",
      "source": [
        "The simulation shows slightly higher volumes (compared to before), but does not lead to substantially different results."
      ],
      "metadata": {
        "id": "Gy5B_2WGFeS9"
      }
    },
    {
      "cell_type": "code",
      "source": [
        "# clean all\n",
        "! rm -r f12_cfsflow_GJ_21_a smb1_meteoswissglamos_GJ_21_a __pycache__\n",
        "! rm *.nc  *.py *.dat *.txt"
      ],
      "metadata": {
        "id": "_FeAds0UDvBq"
      },
      "execution_count": null,
      "outputs": []
    }
  ],
  "metadata": {
    "kernelspec": {
      "display_name": "Python 3",
      "language": "python",
      "name": "python3"
    },
    "language_info": {
      "codemirror_mode": {
        "name": "ipython",
        "version": 3
      },
      "file_extension": ".py",
      "mimetype": "text/x-python",
      "name": "python",
      "nbconvert_exporter": "python",
      "pygments_lexer": "ipython3",
      "version": "3.8.10"
    },
    "colab": {
      "name": "IGM-aletsch-1880-2100.ipynb",
      "provenance": [],
      "collapsed_sections": [],
      "include_colab_link": true
    },
    "accelerator": "GPU"
  },
  "nbformat": 4,
  "nbformat_minor": 0
}