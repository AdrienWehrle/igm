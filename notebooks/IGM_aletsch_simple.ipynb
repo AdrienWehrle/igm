{
  "cells": [
    {
      "cell_type": "markdown",
      "metadata": {
        "id": "view-in-github",
        "colab_type": "text"
      },
      "source": [
        "<a href=\"https://colab.research.google.com/github/jouvetg/igm/blob/main/notebooks/IGM_aletsch_simple.ipynb\" target=\"_parent\"><img src=\"https://colab.research.google.com/assets/colab-badge.svg\" alt=\"Open In Colab\"/></a>"
      ]
    },
    {
      "cell_type": "markdown",
      "metadata": {
        "id": "yNJyXmfZFwui"
      },
      "source": [
        "### <h1 align=\"center\" id=\"title\">IGM notebook tutorial (aletsch-simple) </h1>"
      ]
    },
    {
      "cell_type": "markdown",
      "metadata": {
        "id": "_k8QkmWJFwun"
      },
      "source": [
        "This tutorial aims to guide you modelling the great Aletsch Glacier, Switzerland, in a very simple set-up with the Instructed Glacier Model (IGM)."
      ]
    },
    {
      "cell_type": "markdown",
      "metadata": {
        "id": "zqCnDfEVFwup"
      },
      "source": [
        "Let us firt download the IGM code, ice flow emulator, and input data"
      ]
    },
    {
      "cell_type": "code",
      "execution_count": null,
      "metadata": {
        "id": "AA53z4jiFwur"
      },
      "outputs": [],
      "source": [
        "# get the core source of igm (in igm.py)\n",
        "!wget -O igm.py https://raw.githubusercontent.com/jouvetg/igm/main/src/igm.py\n",
        "\n",
        "# get input data\n",
        "!wget -O geology.nc https://raw.githubusercontent.com/jouvetg/igm/main/examples/aletsch-simple/geology.nc\n",
        "!wget -O mb_simple_param.txt https://raw.githubusercontent.com/jouvetg/igm/main/examples/aletsch-simple/mb_simple_param.txt\n",
        "\n",
        "# get the ice flow emulator\n",
        "!apt install subversion\n",
        "!svn export https://github.com/jouvetg/igm/trunk/model-lib/f12_cfsflow_GJ_21_a\n",
        "\n",
        "# force version 2.4 of Tensorflow\n",
        "%tensorflow_version 2.4"
      ]
    },
    {
      "cell_type": "markdown",
      "metadata": {
        "id": "loGdyGBAFwuw"
      },
      "source": [
        "In the first set-up, we take top ice surface topography and (zero) ice thickness defined in geology.nc, and force IGM with mass balance parameters defined in mb_simple_param.txt."
      ]
    },
    {
      "cell_type": "markdown",
      "metadata": {
        "id": "VR1oNvLvFwuz"
      },
      "source": [
        "First, we import necessary libraries, check the version of tensorflow, and inport the class igm (defined in igm.py), and create an igm object."
      ]
    },
    {
      "cell_type": "code",
      "execution_count": null,
      "metadata": {
        "id": "HcpUnDWpFwu1"
      },
      "outputs": [],
      "source": [
        "import sys\n",
        "import matplotlib.pyplot as plt\n",
        "import numpy as np\n",
        "import tensorflow as tf\n",
        "print('TF version is ',tf.__version__)\n",
        "sys.argv = ['']  # this is absolutly necessary in Jupyter notebook\n",
        "from igm import *\n",
        "igm=igm() # create an object igm"
      ]
    },
    {
      "cell_type": "markdown",
      "source": [
        "Altough, you don't have to, it is highly recommended to run under GPU (click above 'Runtime' -> 'Change Runtime type' -> Activate GPU). Then the fowllowing comand check that a GPU is indeed available, and give the name of the GPU. (With the free veryion of colab these GPU are often old and not that efficient -- like the K80 --, IGM would typically run faster on new material)"
      ],
      "metadata": {
        "id": "lu5f4fKIBvSP"
      }
    },
    {
      "cell_type": "code",
      "source": [
        "from tensorflow.python.client import device_lib\n",
        "device_lib.list_local_devices()"
      ],
      "metadata": {
        "id": "WDY_gBz5Mso1"
      },
      "execution_count": null,
      "outputs": []
    },
    {
      "cell_type": "markdown",
      "metadata": {
        "id": "BS3gGxl0Fwu3"
      },
      "source": [
        "Next, we overide the default configuration parameters, initialize the class, and check at the parameters"
      ]
    },
    {
      "cell_type": "code",
      "execution_count": null,
      "metadata": {
        "scrolled": true,
        "id": "h6nntbjDFwu5"
      },
      "outputs": [],
      "source": [
        "igm.config.tstart            = 1000  # we start at time t=1000\n",
        "igm.config.tend              = 1250  # we end at time   t=1250\n",
        "igm.config.tsave             = 5     # we save result each 5 years\n",
        "igm.config.init_strflowctrl  = 90    # we fix the ice flow strenght control to 90 (i.e. A=78, c=12)\n",
        "igm.config.iceflow_model_lib_path    = 'f12_cfsflow_GJ_21_a' # we provide the path for th ice flow emultor\n",
        "igm.config.type_mass_balance = 'simple' # we use the 'simple' ELA-parametrized SMB model\n",
        "igm.config.mb_simple_file    = 'mb_simple_param.txt' # this is the file where are defined the SMB params.\n",
        "igm.config.usegpu            = True # we do not use the GPU for the first run\n",
        "igm.config.plot_live         = False # we do not plot the result life, but vizualize a posteriori\n",
        "igm.config.plot_result       = False # we do not plot the result life, but vizualize a posteriori\n",
        "\n",
        "igm.initialize()"
      ]
    },
    {
      "cell_type": "markdown",
      "metadata": {
        "id": "puHkT8XGFwu-"
      },
      "source": [
        "Now we run the IGM time evolution workflow with igm.run(), which is strictly equivalent to the commented list of operations and permits to vizualize all steps within the time loop.\n"
      ]
    },
    {
      "cell_type": "code",
      "execution_count": null,
      "metadata": {
        "id": "sye7i4scFwvA"
      },
      "outputs": [],
      "source": [
        "igm.run() # is equivalent to the following comand list\n",
        "\n",
        "# with tf.device(igm.device_name):\n",
        "#    igm.load_ncdf_data(igm.config.geology_file)\n",
        "#    igm.initialize_fields()               \n",
        "#    igm.initialize_iceflow()\n",
        "#    igm.update_iceflow()                    \n",
        "#    igm.update_ncdf_ex()\n",
        "#    igm.print_info()\n",
        "#    while igm.t < igm.config.tend:                       \n",
        "#        igm.update_smb()\n",
        "#        igm.update_iceflow()\n",
        "#        igm.update_t_dt() \n",
        "#        igm.update_thk()       \n",
        "#        igm.update_ncdf_ex()\n",
        "#        igm.update_plot()\n",
        "#        igm.print_info()"
      ]
    },
    {
      "cell_type": "markdown",
      "metadata": {
        "id": "19zJqae0FwvC"
      },
      "source": [
        "We have now modelled 250 years of evolution of the Great Aletsch Glacier in less than a minute! (this would take < 15 sec on modern GPU). IGM monitors key variables (ice volume, time step) during computation you can monitor, and gives a statatistic of the computational cost of each mdel components at the end. The results were stored in ex.nc. Now we can vizualize the results (ice thickness, ice speed, or more) in form of an animation.\n",
        "\n"
      ]
    },
    {
      "cell_type": "code",
      "execution_count": null,
      "metadata": {
        "id": "bMfqATiPGzSZ"
      },
      "outputs": [],
      "source": [
        "from IPython.display import HTML, display\n",
        "import xarray as xr \n",
        "from matplotlib import pyplot as plt, animation\n",
        "\n",
        "# open the thickness variable from the netcdf file (choose ice thcikness or ice speed)\n",
        "#var  = xr.open_dataset('ex.nc',engine='netcdf4').thk            ; maxvar = 800\n",
        "var  = xr.open_dataset('ex.nc',engine='netcdf4').velbar_mag    ; maxvar = 250\n",
        " \n",
        "fig, ax = plt.subplots(figsize=(8,10))\n",
        "\n",
        "# Plot the initial frame. \n",
        "cax = var[0,:,:].plot(add_colorbar=True,cmap=plt.cm.get_cmap('jet', 10),vmin=0, vmax=maxvar)\n",
        "ax.axis(\"off\") ; ax.axis(\"equal\")\n",
        "\n",
        "# dont' show the original frame\n",
        "plt.close()\n",
        "\n",
        "def animate(i):\n",
        "    cax.set_array(var[i,:,:].values.flatten())\n",
        "    ax.set_title(\"Time = \" + str(var.coords['time'].values[i])[:13])\n",
        "\n",
        "ani = animation.FuncAnimation( fig, animate, frames=var.shape[0], interval=100 ) # interval in ms between frames\n",
        "\n",
        "HTML(ani.to_html5_video())\n",
        "\n",
        "# optionally the animation can be saved in avi\n",
        "# ani.save('animation.mp4')"
      ]
    },
    {
      "cell_type": "markdown",
      "metadata": {
        "id": "zBmymAdjFwvG"
      },
      "source": [
        "igm.config.type_mass_balance = 'sinus'\n",
        "Now, we may custumize your our mass balance function with an oscillating ELA. For that, you can define a function of the class igm, and make sure to activate the corresponding keywork in igm.config.type_mass_balance"
      ]
    },
    {
      "cell_type": "code",
      "execution_count": null,
      "metadata": {
        "id": "YBFBF596FwvI"
      },
      "outputs": [],
      "source": [
        "!rm ex.nc"
      ]
    },
    {
      "cell_type": "code",
      "execution_count": null,
      "metadata": {
        "id": "WdIRca4LFwvG"
      },
      "outputs": [],
      "source": [
        "from igm import igm\n",
        "import math\n",
        "\n",
        "class igm(igm):\n",
        "\n",
        "    def update_smb_sinus(self):\n",
        "        \"\"\"\n",
        "            mass balance 'sinus'\n",
        "        \"\"\"\n",
        "\n",
        "        ela     = 2800 + 500*math.sin((self.t/50)*math.pi)\n",
        "        gradabl = 0.009\n",
        "        gradacc = 0.005\n",
        "        maxacc  = 2.0\n",
        "\n",
        "        smb = self.usurf - ela\n",
        "        smb *= tf.where(tf.less(smb, 0), gradabl, gradacc)\n",
        "        smb = tf.clip_by_value(smb, -100, maxacc)\n",
        "        smb = tf.where(self.icemask>0.5, smb, -10 )\n",
        "\n",
        "        self.smb.assign( smb )\n",
        "\n",
        "igm = igm()\n",
        "\n",
        "igm.config.tstart                 = 0\n",
        "igm.config.tend                   = 500\n",
        "igm.config.tsave                  = 2\n",
        "igm.config.cfl                    = 0.5\n",
        "igm.config.init_strflowctrl       = 90\n",
        "igm.config.iceflow_model_lib_path = 'f12_cfsflow_GJ_21_a'\n",
        "igm.config.type_mass_balance      = 'sinus'\n",
        "igm.config.usegpu                 = True\n",
        "\n",
        "igm.run()"
      ]
    }
  ],
  "metadata": {
    "kernelspec": {
      "display_name": "Python 3",
      "language": "python",
      "name": "python3"
    },
    "language_info": {
      "codemirror_mode": {
        "name": "ipython",
        "version": 3
      },
      "file_extension": ".py",
      "mimetype": "text/x-python",
      "name": "python",
      "nbconvert_exporter": "python",
      "pygments_lexer": "ipython3",
      "version": "3.8.10"
    },
    "colab": {
      "name": "theIGMnotebook.ipynb",
      "provenance": [],
      "collapsed_sections": [],
      "include_colab_link": true
    },
    "accelerator": "GPU"
  },
  "nbformat": 4,
  "nbformat_minor": 0
}